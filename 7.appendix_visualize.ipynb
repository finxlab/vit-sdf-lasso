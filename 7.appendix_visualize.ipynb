{
 "cells": [
  {
   "cell_type": "code",
   "execution_count": null,
   "id": "2eb2822c",
   "metadata": {},
   "outputs": [],
   "source": [
    "import os\n",
    "\n",
    "import pandas as pd\n",
    "import numpy as np\n",
    "import statsmodels.api as sm\n",
    "import matplotlib.pyplot as plt\n",
    "import seaborn as sns\n",
    "\n",
    "from glob import glob\n",
    "from tqdm import tqdm\n",
    "\n",
    "from sklearn.linear_model import Lasso\n",
    "from sklearn.model_selection import KFold\n",
    "from sklearn.metrics import mean_squared_error\n",
    "\n",
    "import warnings\n",
    "from sklearn.exceptions import ConvergenceWarning\n",
    "warnings.filterwarnings(\"ignore\", category=ConvergenceWarning)\n",
    "\n",
    "from joblib import Parallel, delayed\n",
    "import os\n",
    "\n",
    "model = 'ViT_Cap_VW'  # or 'CNN_Cap_VW'\n",
    "\n",
    "port = pd.read_csv(r'Factor_port\\\\' + model + '.csv', index_col=0)\n",
    "port.index = pd.to_datetime(port.index)\n",
    "\n",
    "start_date = pd.to_datetime('2001-01-01')\n",
    "end_date = pd.to_datetime('2024-12-31')\n",
    "\n",
    "port = port[(port.index >= start_date) & (port.index <= end_date)]\n",
    "\n",
    "ff3 = pd.read_csv(r'data\\processed_kelly\\ff3.csv', index_col=0)\n",
    "ff3.index = pd.to_datetime(ff3.index)\n",
    "ff3 = ff3[start_date:end_date]\n",
    "\n",
    "ff5 = pd.read_csv(r'data\\processed_kelly\\ff5.csv', index_col=0)\n",
    "ff5.index = pd.to_datetime(ff5.index)\n",
    "ff5 = ff5[start_date:end_date]\n",
    "\n",
    "q5 = pd.read_csv(r'data\\processed_kelly\\q5.csv')\n",
    "q5.set_index('date', inplace=True)\n",
    "q5.index = pd.to_datetime(q5.index)\n",
    "q5 = q5[start_date:end_date]\n",
    "q5.index.name = None\n",
    "\n",
    "test_portfolios = pd.read_csv(r'data\\processed_kelly\\test_portfolios.csv')\n",
    "test_portfolios.set_index('date', inplace=True)\n",
    "test_portfolios.index = pd.to_datetime(test_portfolios.index)\n",
    "test_portfolios = test_portfolios[start_date:end_date]\n",
    "test_portfolios = test_portfolios\n",
    "test_portfolios.index.name = None\n",
    "\n",
    "mom = pd.read_csv(r'data\\processed_kelly\\ff_mom.csv', index_col=0)\n",
    "mom.index = pd.to_datetime(mom.index)\n",
    "mom = mom[start_date:end_date]\n",
    "\n",
    "kelly_factors = pd.read_csv(r'data\\processed_kelly\\kelly_factor.csv')\n",
    "kelly_factors.set_index('date', inplace=True)\n",
    "kelly_factors.index = pd.to_datetime(kelly_factors.index)\n",
    "kelly_factors = kelly_factors[start_date:end_date]\n",
    "kelly_factors.index.name = None\n",
    "\n",
    "ff3.index = port.index\n",
    "ff5.index = port.index\n",
    "q5.index = port.index\n",
    "test_portfolios.index = port.index\n",
    "mom.index = port.index\n",
    "kelly_factors.index = port.index\n",
    "rf = ff3['RF']\n",
    "\n",
    "factor_zoo = pd.concat([np.round(kelly_factors*100,4) ,ff5[['Mkt-RF','SMB','HML','RMW','CMA']],q5[['R_ME','R_IA','R_ROE']],np.round(port[[model.split('_')[0]]] * 100 ,4)],axis=1)\n",
    "\n",
    "h_t = factor_zoo.iloc[:,:-1].copy()\n",
    "h_t = np.array(h_t)\n",
    "g_t = np.array(factor_zoo.iloc[:,-1:])\n",
    "\n",
    "beta_k_df = pd.read_csv(r'data//beta_k.csv', index_col=0)\n",
    "mean_betas = (beta_k_df**2).mean(axis=0)\n",
    "penalty = (mean_betas/mean_betas.mean())"
   ]
  },
  {
   "cell_type": "code",
   "execution_count": null,
   "id": "c7d14994",
   "metadata": {},
   "outputs": [],
   "source": [
    "import matplotlib as mpl\n",
    "mpl.rcParams['font.family'] = 'Times New Roman' # Times New Roman"
   ]
  },
  {
   "cell_type": "code",
   "execution_count": null,
   "id": "2672cecf",
   "metadata": {},
   "outputs": [],
   "source": [
    "lambda1_1se = []\n",
    "\n",
    "for path in glob(r'result\\\\'+ model + '\\\\*lasso1*'):\n",
    "    temp = pd.read_csv(path)\n",
    "    mean_errors = temp.mean(axis=0)\n",
    "    se = temp.std(axis=0) / np.sqrt(temp.shape[0])\n",
    "    min_mse = mean_errors.iloc[mean_errors.argmin()]\n",
    "    best_idx = mean_errors[mean_errors == min_mse].index[0]\n",
    "    candidate = mean_errors[mean_errors <= (min_mse + se[best_idx])].idxmax()\n",
    "    lambda1_1se.append(int(candidate))"
   ]
  },
  {
   "cell_type": "code",
   "execution_count": null,
   "id": "27b21f1f",
   "metadata": {},
   "outputs": [],
   "source": [
    "lambda2_1se = []\n",
    "\n",
    "for path in glob(r'result\\\\'+ model + '\\*lasso2*'):\n",
    "    temp = pd.read_csv(path)\n",
    "    mean_errors = temp.mean(axis=0)\n",
    "    se = temp.std(axis=0) / np.sqrt(temp.shape[0])\n",
    "    min_mse = mean_errors.iloc[mean_errors.argmin()]\n",
    "    best_idx = mean_errors[mean_errors == min_mse].index[0]\n",
    "    candidate = mean_errors[mean_errors <= (min_mse + se[best_idx])].idxmax()\n",
    "    lambda2_1se.append(int(candidate))"
   ]
  },
  {
   "cell_type": "code",
   "execution_count": null,
   "id": "fa300732",
   "metadata": {},
   "outputs": [],
   "source": [
    "# first_lasso_cov\n",
    "first_lasso_cov_lst = []\n",
    "for idx in range(test_portfolios.shape[1]):\n",
    "    y_i = test_portfolios.iloc[:, idx]\n",
    "    not_nan_idx = ~np.isnan(y_i)\n",
    "    y_i = y_i[not_nan_idx]\n",
    "    x = h_t[not_nan_idx]\n",
    "    first_lasso_cov_lst.append(np.cov(y_i, x.T, ddof=1)[0, 1:])\n",
    "\n",
    "first_lasso_cov = np.array(first_lasso_cov_lst)\n",
    "mean_ri = np.mean(test_portfolios, axis=0).values.reshape(-1, 1)\n",
    "\n",
    "# second lasso_cov\n",
    "second_lasso_cov_lst = []\n",
    "for idx in range(test_portfolios.shape[1]):\n",
    "    y_i = test_portfolios.iloc[:, idx]\n",
    "    not_nan_idx = ~np.isnan(y_i)\n",
    "    y_i = y_i[not_nan_idx]\n",
    "    x = g_t[not_nan_idx]\n",
    "    second_lasso_cov_lst.append(np.cov(y_i,x.T,ddof=1)[0,1:])\n",
    "\n",
    "second_lasso_cov = np.array(second_lasso_cov_lst)"
   ]
  },
  {
   "cell_type": "code",
   "execution_count": null,
   "id": "70bb5c65",
   "metadata": {},
   "outputs": [],
   "source": [
    "lasso1_mse_lst = []\n",
    "lasso2_mse_lst = []\n",
    "\n",
    "NumLambda = 100\n",
    "\n",
    "lambdas1 = np.exp(np.linspace(0, -35, NumLambda))\n",
    "lambdas2 = np.exp(np.linspace(0, -35, NumLambda))"
   ]
  },
  {
   "cell_type": "code",
   "execution_count": null,
   "id": "351df011",
   "metadata": {},
   "outputs": [],
   "source": [
    "lambda1_cnt = pd.DataFrame(lambda1_1se).value_counts()"
   ]
  },
  {
   "cell_type": "code",
   "execution_count": null,
   "id": "3b74fdee",
   "metadata": {},
   "outputs": [],
   "source": [
    "result1 = []\n",
    "for idx in tqdm(range(len(lambda1_cnt))):\n",
    "    lambda_idx = lambda1_cnt.index[idx][0]\n",
    "    cnt = lambda1_cnt.iloc[idx]\n",
    "    lasso1 = Lasso(alpha=lambdas1[lambda_idx], fit_intercept=True, max_iter=10000,tol=1e-5)\n",
    "    lasso1.fit(first_lasso_cov * penalty.values, mean_ri)\n",
    "    lasso1.coef_\n",
    "    for iter in range(cnt):\n",
    "        result1.append(list((pd.DataFrame(lasso1.coef_)/(pd.DataFrame(lasso1.coef_)))[0].fillna(0).astype(int)))"
   ]
  },
  {
   "cell_type": "code",
   "execution_count": null,
   "id": "8690f11d",
   "metadata": {},
   "outputs": [],
   "source": [
    "lambda2_cnt = pd.DataFrame(lambda2_1se).value_counts()\n",
    "\n",
    "result2 = []\n",
    "for idx in tqdm(range(len(lambda2_cnt))):\n",
    "    lambda_idx = lambda2_cnt.index[idx][0]\n",
    "    cnt = lambda2_cnt.iloc[idx]\n",
    "    lasso2 = Lasso(alpha=lambdas1[lambda_idx], fit_intercept=True, max_iter=10000,tol=1e-5)\n",
    "    lasso2.fit(first_lasso_cov * penalty.values, second_lasso_cov)  \n",
    "    lasso2.coef_\n",
    "\n",
    "    for iter in range(cnt):\n",
    "        result2.append(list((pd.DataFrame(lasso2.coef_)/(pd.DataFrame(lasso2.coef_)))[0].fillna(0).astype(int)))"
   ]
  },
  {
   "cell_type": "code",
   "execution_count": null,
   "id": "2cc37c1e",
   "metadata": {},
   "outputs": [],
   "source": [
    "rslt_df1 = pd.DataFrame(result1)\n",
    "rslt_df1.columns = factor_zoo.columns[:-1]\n",
    "print('First Lasso')\n",
    "rslt_df1.sum(axis=0).sort_values().T.tail(19)[::-1]"
   ]
  },
  {
   "cell_type": "code",
   "execution_count": null,
   "id": "4384167e",
   "metadata": {},
   "outputs": [],
   "source": [
    "rslt_df2 = pd.DataFrame(result2)\n",
    "rslt_df2.columns = factor_zoo.columns[:-1]\n",
    "print('Second Lasso')\n",
    "rslt_df2.sum(axis=0).sort_values().T.tail(19)[::-1]"
   ]
  },
  {
   "cell_type": "code",
   "execution_count": null,
   "id": "cfe7f181",
   "metadata": {},
   "outputs": [],
   "source": [
    "plt.figure(figsize=(6,2),dpi=400)\n",
    "plt.bar((pd.DataFrame(result1).sum(axis=0)/200).index+1,(pd.DataFrame(result1).sum(axis=0)/200),color='black')\n",
    "plt.ylim(0,1.0)\n",
    "plt.ylabel(\"Selection rate\",fontsize=14)\n",
    "plt.xlabel(\"Factor ID\",fontsize=14)\n",
    "plt.savefig('fig_firstlasso_selection_ratio.png', dpi=400, bbox_inches='tight')"
   ]
  },
  {
   "cell_type": "code",
   "execution_count": null,
   "id": "f3a860f6",
   "metadata": {},
   "outputs": [],
   "source": [
    "plt.figure(figsize=(6,2),dpi=400)\n",
    "plt.bar((pd.DataFrame(result2).sum(axis=0)/200).index+1,(pd.DataFrame(result2).sum(axis=0)/200),color='#DC343B')\n",
    "plt.ylim(0,1.0)\n",
    "plt.ylabel(\"Selection rate\",fontsize=14)\n",
    "plt.xlabel(\"Factor ID\",fontsize=14)\n",
    "plt.savefig('fig_secondlasso_selection_ratio.png', dpi=400, bbox_inches='tight')"
   ]
  },
  {
   "cell_type": "code",
   "execution_count": null,
   "id": "2225b2b1",
   "metadata": {},
   "outputs": [],
   "source": [
    "factor_zoo.columns[:-1]"
   ]
  },
  {
   "cell_type": "code",
   "execution_count": null,
   "id": "8ca35c8e",
   "metadata": {},
   "outputs": [],
   "source": [
    "heatmap_df = pd.DataFrame([lambda1_1se,lambda2_1se]).T\n",
    "heatmap_df.columns = ['first','second']"
   ]
  },
  {
   "cell_type": "code",
   "execution_count": null,
   "id": "63c380f6",
   "metadata": {},
   "outputs": [],
   "source": [
    "lasso1_coef_dict = {}\n",
    "\n",
    "for idx in tqdm(list(set(heatmap_df['first']))):\n",
    "    lasso1 = Lasso(alpha=lambdas1[idx], fit_intercept=True, max_iter=10000,tol=1e-5)\n",
    "    lasso1.fit(first_lasso_cov * penalty.values, mean_ri)\n",
    "    lasso1_coef_dict[idx] = list((pd.DataFrame(lasso1.coef_)/(pd.DataFrame(lasso1.coef_)))[0].fillna(0).astype(int))"
   ]
  },
  {
   "cell_type": "code",
   "execution_count": null,
   "id": "d73fadc8",
   "metadata": {},
   "outputs": [],
   "source": [
    "lasso2_coef_dict = {}\n",
    "\n",
    "for idx in tqdm(list(set(heatmap_df['second']))):\n",
    "    lasso2 = Lasso(alpha=lambdas1[idx], fit_intercept=True, max_iter=10000,tol=1e-5)\n",
    "    lasso2.fit(first_lasso_cov * penalty.values, second_lasso_cov)  \n",
    "    lasso2_coef_dict[idx] = list((pd.DataFrame(lasso2.coef_)/(pd.DataFrame(lasso2.coef_)))[0].fillna(0).astype(int))"
   ]
  },
  {
   "cell_type": "code",
   "execution_count": null,
   "id": "cf5867d3",
   "metadata": {},
   "outputs": [],
   "source": [
    "var_count = []\n",
    "for i in range(200):\n",
    "    f,s = heatmap_df.iloc[i]\n",
    "    control_cnt = np.array(lasso1_coef_dict[f]) + np.array(lasso2_coef_dict[s])\n",
    "    var_count.append((control_cnt!=0).sum())\n",
    "heatmap_df['count'] = var_count"
   ]
  },
  {
   "cell_type": "code",
   "execution_count": null,
   "id": "6856ccd9",
   "metadata": {},
   "outputs": [],
   "source": [
    "heatmap_df['first'] = heatmap_df['first'].apply(lambda x : np.log(lambdas1[x]))\n",
    "heatmap_df['second'] = heatmap_df['second'].apply(lambda x : np.log(lambdas2[x]))"
   ]
  },
  {
   "cell_type": "code",
   "execution_count": null,
   "id": "d6d2f4bc",
   "metadata": {},
   "outputs": [],
   "source": [
    "import numpy as np\n",
    "import pandas as pd\n",
    "import matplotlib.pyplot as plt\n",
    "from scipy.interpolate import griddata\n",
    "\n",
    "df = heatmap_df.drop_duplicates()  \n",
    "\n",
    "x = df['first'].to_numpy()\n",
    "y = df['second'].to_numpy()\n",
    "z = df['count'].to_numpy()\n",
    "\n",
    "xi = np.linspace(x.min(), x.max(), 400)\n",
    "yi = np.linspace(y.min(), y.max(), 400)\n",
    "XI, YI = np.meshgrid(xi, yi)\n",
    "\n",
    "ZI = griddata((x, y), z, (XI, YI), method='cubic')\n",
    "\n",
    "ZI_nearest = griddata((x, y), z, (XI, YI), method='nearest')\n",
    "ZI[np.isnan(ZI)] = ZI_nearest[np.isnan(ZI)]\n",
    "\n",
    "\n",
    "fig, ax = plt.subplots(figsize=(6, 5),dpi=400)\n",
    "im = ax.imshow(\n",
    "    ZI, origin='lower',\n",
    "    extent=[xi.min(), xi.max(), yi.min(), yi.max()],\n",
    "    aspect='auto', vmin=0, vmax=161  \n",
    ")\n",
    "plt.colorbar(im, ax=ax)\n",
    "\n",
    "ax.scatter(x, y, s=8, c='k')\n",
    "\n",
    "ax.scatter(np.log(lambdas1[8]),np.log(lambdas2[8]), marker='x', s=70, c='r')\n",
    "ax.set_xlim(-12,-2)\n",
    "ax.set_ylim(-12,-2)\n",
    "ax.set_xlabel('First LASSO log(λ)', fontsize=14)\n",
    "ax.set_ylabel('Second LASSO log(λ)', fontsize=14)\n",
    "plt.tight_layout()\n",
    "plt.savefig('fig_frequency_heatmap.png', dpi=400, bbox_inches='tight')\n",
    "plt.close()"
   ]
  }
 ],
 "metadata": {
  "kernelspec": {
   "display_name": "base",
   "language": "python",
   "name": "python3"
  },
  "language_info": {
   "codemirror_mode": {
    "name": "ipython",
    "version": 3
   },
   "file_extension": ".py",
   "mimetype": "text/x-python",
   "name": "python",
   "nbconvert_exporter": "python",
   "pygments_lexer": "ipython3",
   "version": "3.13.5"
  }
 },
 "nbformat": 4,
 "nbformat_minor": 5
}
