{
 "cells": [
  {
   "cell_type": "code",
   "execution_count": null,
   "id": "891baefd",
   "metadata": {},
   "outputs": [],
   "source": [
    "import os\n",
    "\n",
    "import pandas as pd\n",
    "import numpy as np\n",
    "import statsmodels.api as sm\n",
    "import matplotlib.pyplot as plt\n",
    "    \n",
    "from glob import glob\n",
    "from tqdm import tqdm"
   ]
  },
  {
   "cell_type": "code",
   "execution_count": null,
   "id": "b56545bf",
   "metadata": {},
   "outputs": [],
   "source": [
    "model = 'ViT_Cap_VW'  # or 'CNN_Cap_VW'"
   ]
  },
  {
   "cell_type": "code",
   "execution_count": null,
   "id": "081e32f5",
   "metadata": {},
   "outputs": [],
   "source": [
    "port = pd.read_csv(r'Factor_port\\\\' + model + '.csv', index_col=0)\n",
    "port.index = pd.to_datetime(port.index)"
   ]
  },
  {
   "cell_type": "code",
   "execution_count": null,
   "id": "d4782c58",
   "metadata": {},
   "outputs": [],
   "source": [
    "start_date = pd.to_datetime('2001-01-01')\n",
    "end_date = pd.to_datetime('2024-12-31')\n",
    "\n",
    "port = port[(port.index >= start_date) & (port.index <= end_date)]"
   ]
  },
  {
   "cell_type": "code",
   "execution_count": null,
   "id": "06e11302",
   "metadata": {},
   "outputs": [],
   "source": [
    "ff3 = pd.read_csv(r'data\\processed_kelly\\ff3.csv', index_col=0)\n",
    "ff3.index = pd.to_datetime(ff3.index)\n",
    "ff3 = ff3[start_date:end_date]\n",
    "\n",
    "ff5 = pd.read_csv(r'data\\processed_kelly\\ff5.csv', index_col=0)\n",
    "ff5.index = pd.to_datetime(ff5.index)\n",
    "ff5 = ff5[start_date:end_date]\n",
    "\n",
    "q5 = pd.read_csv(r'data\\processed_kelly\\q5.csv')\n",
    "q5.set_index('date', inplace=True)\n",
    "q5.index = pd.to_datetime(q5.index)\n",
    "q5 = q5[start_date:end_date]\n",
    "q5.index.name = None\n",
    "\n",
    "test_portfolios = pd.read_csv(r'data\\processed_kelly\\test_portfolios.csv')\n",
    "test_portfolios.set_index('date', inplace=True)\n",
    "test_portfolios.index = pd.to_datetime(test_portfolios.index)\n",
    "test_portfolios = test_portfolios[start_date:end_date]\n",
    "test_portfolios = test_portfolios\n",
    "test_portfolios.index.name = None"
   ]
  },
  {
   "cell_type": "code",
   "execution_count": null,
   "id": "c7758910",
   "metadata": {},
   "outputs": [],
   "source": [
    "mom = pd.read_csv(r'data\\processed_kelly\\ff_mom.csv', index_col=0)\n",
    "mom.index = pd.to_datetime(mom.index)\n",
    "mom = mom[start_date:end_date]"
   ]
  },
  {
   "cell_type": "code",
   "execution_count": null,
   "id": "1edfeb19",
   "metadata": {},
   "outputs": [],
   "source": [
    "kelly_factors = pd.read_csv(r'data\\processed_kelly\\kelly_factor.csv')\n",
    "kelly_factors.set_index('date', inplace=True)\n",
    "kelly_factors.index = pd.to_datetime(kelly_factors.index)\n",
    "kelly_factors = kelly_factors[start_date:end_date]\n",
    "kelly_factors.index.name = None"
   ]
  },
  {
   "cell_type": "code",
   "execution_count": null,
   "id": "11dfcf49",
   "metadata": {},
   "outputs": [],
   "source": [
    "ff3.index = port.index\n",
    "ff5.index = port.index\n",
    "q5.index = port.index\n",
    "test_portfolios.index = port.index\n",
    "mom.index = port.index\n",
    "kelly_factors.index = port.index\n",
    "rf = ff3['RF']"
   ]
  },
  {
   "cell_type": "code",
   "execution_count": null,
   "id": "41a56081",
   "metadata": {},
   "outputs": [],
   "source": [
    "factor_zoo = pd.concat([np.round(kelly_factors*100,4) ,ff5[['Mkt-RF','SMB','HML','RMW','CMA']],q5[['R_ME','R_IA','R_ROE']],np.round(port[[model.split('_')[0]]] * 100 ,4)],axis=1)"
   ]
  },
  {
   "cell_type": "code",
   "execution_count": null,
   "id": "4b2d3273",
   "metadata": {},
   "outputs": [],
   "source": [
    "os.makedirs(r'result\\\\'+ model , exist_ok=True)"
   ]
  },
  {
   "cell_type": "code",
   "execution_count": null,
   "id": "77e7550c",
   "metadata": {},
   "outputs": [],
   "source": [
    "# === univariate beta calculation ===\n",
    "\n",
    "beta_k_lst = []\n",
    "for factor_name in tqdm(factor_zoo.columns[:-1]):\n",
    "    x_i = factor_zoo[factor_name]\n",
    "    betas = []\n",
    "    \n",
    "    for asset in test_portfolios.columns:\n",
    "        y_i = test_portfolios[asset]\n",
    "        if y_i.isna().sum() > 0:\n",
    "            y_i = y_i[~y_i.isna()].copy()\n",
    "            x_i_temp = x_i.loc[y_i.index].copy()\n",
    "            x_i_temp = sm.add_constant(x_i_temp)\n",
    "            ols_model = sm.OLS(y_i, x_i_temp).fit()\n",
    "        else:\n",
    "            x_i = sm.add_constant(x_i)\n",
    "            ols_model = sm.OLS(y_i, x_i).fit()\n",
    "\n",
    "        beta_i = ols_model.params[factor_name]\n",
    "        betas.append(beta_i)\n",
    "\n",
    "    beta_k = betas\n",
    "\n",
    "    beta_k_lst.append(beta_k)\n",
    "\n",
    "pd.DataFrame(beta_k_lst, index=list(factor_zoo.columns[:-1])).T.to_csv('data/beta_k.csv')"
   ]
  },
  {
   "cell_type": "code",
   "execution_count": null,
   "id": "1a22729a",
   "metadata": {},
   "outputs": [],
   "source": [
    "beta_k_lst = pd.read_csv('data\\\\beta_k.csv', index_col=0)"
   ]
  },
  {
   "cell_type": "code",
   "execution_count": null,
   "id": "1ed3b20f",
   "metadata": {},
   "outputs": [],
   "source": [
    "h_t = factor_zoo.iloc[:,:-1].copy()\n",
    "h_t = np.array(h_t)\n",
    "g_t = np.array(factor_zoo.iloc[:,-1:])"
   ]
  },
  {
   "cell_type": "code",
   "execution_count": null,
   "id": "121efabb",
   "metadata": {},
   "outputs": [],
   "source": [
    "from sklearn.linear_model import Lasso\n",
    "from sklearn.model_selection import KFold\n",
    "from sklearn.metrics import mean_squared_error\n",
    "\n",
    "import warnings\n",
    "from sklearn.exceptions import ConvergenceWarning\n",
    "warnings.filterwarnings(\"ignore\", category=ConvergenceWarning)"
   ]
  },
  {
   "cell_type": "code",
   "execution_count": null,
   "id": "fc032ce2",
   "metadata": {},
   "outputs": [],
   "source": [
    "beta_k_df = pd.read_csv('data\\\\beta_k.csv', index_col=0)\n",
    "mean_betas = (beta_k_df**2).mean(axis=0)\n",
    "penalty = (mean_betas/mean_betas.mean())"
   ]
  },
  {
   "cell_type": "code",
   "execution_count": null,
   "id": "897b1e37",
   "metadata": {},
   "outputs": [],
   "source": [
    "best_lambda1_candidate = []\n",
    "best_lambda1_1serule_candidate = []\n",
    "\n",
    "seed_mses = []\n",
    "\n",
    "for path in glob(r'result\\\\'+ model + '\\\\*lasso1*'):\n",
    "    temp = pd.read_csv(path)\n",
    "    mean_errors = temp.mean(axis=0)\n",
    "    seed_mses.append(mean_errors)\n",
    "    \n",
    "seed_mse = pd.concat(seed_mses,axis=1).T"
   ]
  },
  {
   "cell_type": "code",
   "execution_count": null,
   "id": "d95c66a9",
   "metadata": {},
   "outputs": [],
   "source": [
    "seed_mse_argmin_idx = int(seed_mse.mean()[seed_mse.mean() == seed_mse.mean().iloc[seed_mse.mean().argmin()]].index[0])\n",
    "threshold = seed_mse.mean().iloc[seed_mse.mean().argmin()] + (seed_mse.std()/np.sqrt(200)).iloc[seed_mse_argmin_idx]\n",
    "first_lambda_idx = int(seed_mse.mean()[seed_mse.mean() <=threshold].sort_values(ascending=False).index.max())"
   ]
  },
  {
   "cell_type": "code",
   "execution_count": null,
   "id": "9fca11cb",
   "metadata": {},
   "outputs": [],
   "source": [
    "best_lambda2_candidate = []\n",
    "best_lambda2_1serule_candidate = []\n",
    "seed_mses = []\n",
    "\n",
    "for path in glob(r'result\\\\'+ model + '\\*lasso2*'):\n",
    "    temp = pd.read_csv(path)\n",
    "    mean_errors = temp.mean(axis=0)\n",
    "    seed_mses.append(mean_errors)\n",
    "    \n",
    "seed_mse = pd.concat(seed_mses,axis=1).T"
   ]
  },
  {
   "cell_type": "code",
   "execution_count": null,
   "id": "c1ae0a0e",
   "metadata": {},
   "outputs": [],
   "source": [
    "seed_mse_argmin_idx = int(seed_mse.mean()[seed_mse.mean() == seed_mse.mean().iloc[seed_mse.mean().argmin()]].index[0])\n",
    "threshold = seed_mse.mean().iloc[seed_mse.mean().argmin()] + (seed_mse.std()/np.sqrt(200)).iloc[seed_mse_argmin_idx]\n",
    "second_lambda_idx = int(seed_mse.mean()[seed_mse.mean() <=threshold].sort_values(ascending=False).index.max())"
   ]
  },
  {
   "cell_type": "code",
   "execution_count": null,
   "id": "1c9236f5",
   "metadata": {},
   "outputs": [],
   "source": [
    "NumLambda = 100\n",
    "\n",
    "lambdas1 = np.exp(np.linspace(0, -35, NumLambda))\n",
    "lambdas2 = np.exp(np.linspace(0, -35, NumLambda))"
   ]
  },
  {
   "cell_type": "code",
   "execution_count": null,
   "id": "154ed27f",
   "metadata": {},
   "outputs": [],
   "source": [
    "# lasso 1 with -3.18 alpha\n",
    "\n",
    "# first_lasso_cov\n",
    "first_lasso_cov_lst = []\n",
    "for idx in range(test_portfolios.shape[1]):\n",
    "    y_i = test_portfolios.iloc[:, idx]\n",
    "    not_nan_idx = ~np.isnan(y_i)\n",
    "    y_i = y_i[not_nan_idx]\n",
    "    x = h_t[not_nan_idx]\n",
    "    first_lasso_cov_lst.append(np.cov(y_i, x.T, ddof=1)[0, 1:])\n",
    "\n",
    "first_lasso_cov = np.array(first_lasso_cov_lst)\n",
    "mean_ri = np.mean(test_portfolios, axis=0).values.reshape(-1, 1)\n",
    "\n",
    "# second lasso_cov\n",
    "second_lasso_cov_lst = []\n",
    "for idx in range(test_portfolios.shape[1]):\n",
    "    y_i = test_portfolios.iloc[:, idx]\n",
    "    not_nan_idx = ~np.isnan(y_i)\n",
    "    y_i = y_i[not_nan_idx]\n",
    "    x = g_t[not_nan_idx]\n",
    "    second_lasso_cov_lst.append(np.cov(y_i,x.T,ddof=1)[0,1:])\n",
    "\n",
    "second_lasso_cov = np.array(second_lasso_cov_lst)\n",
    "\n",
    "lasso1 = Lasso(alpha=lambdas1[first_lambda_idx], fit_intercept=True, max_iter=10000,tol=1e-5)\n",
    "lasso1.fit(first_lasso_cov * penalty.values, mean_ri)\n",
    "\n",
    "lasso1_pred = lasso1.predict(first_lasso_cov * penalty.values)\n",
    "print(np.mean((lasso1_pred - mean_ri) ** 2))\n",
    "\n",
    "lasso2 = Lasso(alpha=lambdas2[second_lambda_idx], fit_intercept=True, max_iter=10000,tol=1e-5)\n",
    "lasso2.fit(first_lasso_cov * penalty.values, second_lasso_cov)\n",
    "\n",
    "lasso2_pred = lasso2.predict(first_lasso_cov * penalty.values)\n",
    "print(np.mean((lasso2_pred - second_lasso_cov) ** 2))"
   ]
  },
  {
   "cell_type": "code",
   "execution_count": null,
   "id": "a7b40fbf",
   "metadata": {},
   "outputs": [],
   "source": [
    "# final ols\n",
    "\n",
    "y3 = test_portfolios.mean()\n",
    "ols_cov = []\n",
    "feat_names = list(set(factor_zoo.columns[:-1][lasso1.coef_!=0]) | set(factor_zoo.columns[:-1][lasso2.coef_!=0])) + [model.split('_')[0]]\n",
    "\n",
    "for idx in range(test_portfolios.shape[1]):\n",
    "    y_i = test_portfolios.iloc[:, idx].values\n",
    "    not_nan_idx = ~np.isnan(y_i)\n",
    "    y_i = y_i[not_nan_idx]\n",
    "    x = factor_zoo[feat_names].copy()\n",
    "    x = x.loc[not_nan_idx]\n",
    "    ols_cov.append(np.cov(y_i, x.T, ddof=1)[0, 1:])\n",
    "\n",
    "x = np.array(ols_cov)\n",
    "x = pd.DataFrame(x, columns=feat_names)\n",
    "x = sm.add_constant(x)\n",
    "var_names = list(x.columns)\n",
    "ols_model = sm.OLS(y3, np.array(x)).fit()"
   ]
  },
  {
   "cell_type": "code",
   "execution_count": null,
   "id": "1cbac309",
   "metadata": {},
   "outputs": [],
   "source": [
    "list(factor_zoo.columns[:-1][lasso1.coef_!=0])"
   ]
  },
  {
   "cell_type": "code",
   "execution_count": null,
   "id": "7ef138bb",
   "metadata": {},
   "outputs": [],
   "source": [
    "list(factor_zoo.columns[:-1][lasso2.coef_!=0])"
   ]
  },
  {
   "cell_type": "code",
   "execution_count": null,
   "id": "fe2a8da5",
   "metadata": {},
   "outputs": [],
   "source": [
    "print(feat_names)"
   ]
  },
  {
   "cell_type": "code",
   "execution_count": null,
   "id": "fd832111",
   "metadata": {},
   "outputs": [],
   "source": [
    "ols_model.summary()"
   ]
  },
  {
   "cell_type": "code",
   "execution_count": null,
   "metadata": {},
   "outputs": [],
   "source": [
    "# robust check\n",
    "\n",
    "t_stat_matrix = np.zeros((15,15))\n",
    "\n",
    "i_index = 0\n",
    "\n",
    "for i in tqdm(range(-35,36,5)):\n",
    "    j_index = 0\n",
    "    for j in range(-35,36,5):\n",
    "\n",
    "        lambda1 = np.exp(np.log(lambdas1[first_lambda_idx]) + i/100)\n",
    "        lambda2 = np.exp(np.log(lambdas2[second_lambda_idx]) + j/100)\n",
    "\n",
    "        second_lasso_cov = np.array(second_lasso_cov_lst)\n",
    "\n",
    "        lasso1 = Lasso(alpha=lambda1, fit_intercept=True, max_iter=10000,tol=1e-5)\n",
    "        lasso1.fit(first_lasso_cov * penalty.values, mean_ri)\n",
    "        lasso1_pred = lasso1.predict(first_lasso_cov * penalty.values)\n",
    "\n",
    "        lasso2 = Lasso(alpha=lambda2, fit_intercept=True, max_iter=10000,tol=1e-5)\n",
    "        lasso2.fit(first_lasso_cov * penalty.values, second_lasso_cov)\n",
    "        lasso2_pred = lasso2.predict(first_lasso_cov * penalty.values)\n",
    "\n",
    "        # final ols\n",
    "\n",
    "        y3 = test_portfolios.mean()\n",
    "        ols_cov = []\n",
    "        feat_names = list(factor_zoo.columns[:-1][lasso1.coef_!=0]) + list(factor_zoo.columns[:-1][lasso2.coef_!=0]) + [model.split('_')[0]]\n",
    "\n",
    "        for idx in range(test_portfolios.shape[1]):\n",
    "            y_i = test_portfolios.iloc[:, idx].values\n",
    "            not_nan_idx = ~np.isnan(y_i)\n",
    "            y_i = y_i[not_nan_idx]\n",
    "            x = factor_zoo[feat_names].copy()\n",
    "            x = x.loc[not_nan_idx]\n",
    "            ols_cov.append(np.cov(y_i, x.T, ddof=1)[0, 1:])\n",
    "\n",
    "\n",
    "        x = np.array(ols_cov)\n",
    "        x = pd.DataFrame(x, columns=feat_names)\n",
    "        x = sm.add_constant(x)\n",
    "        var_names = list(x.columns)\n",
    "        ols_model = sm.OLS(y3, np.array(x), var_names).fit()\n",
    "        t_stat_matrix[i_index,j_index] = ols_model.tvalues.iloc[-1]\n",
    "        j_index += 1\n",
    "    i_index += 1\n",
    "\n",
    "pd.DataFrame(t_stat_matrix).to_csv('result\\\\' + model + '_t_stat_v2.csv')"
   ]
  }
 ],
 "metadata": {
  "kernelspec": {
   "display_name": "base",
   "language": "python",
   "name": "python3"
  },
  "language_info": {
   "codemirror_mode": {
    "name": "ipython",
    "version": 3
   },
   "file_extension": ".py",
   "mimetype": "text/x-python",
   "name": "python",
   "nbconvert_exporter": "python",
   "pygments_lexer": "ipython3",
   "version": "3.13.5"
  }
 },
 "nbformat": 4,
 "nbformat_minor": 5
}
