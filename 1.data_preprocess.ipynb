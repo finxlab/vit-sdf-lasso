{
 "cells": [
  {
   "cell_type": "code",
   "execution_count": 1,
   "id": "477f6e26",
   "metadata": {},
   "outputs": [],
   "source": [
    "import numpy as np\n",
    "import pandas as pd\n",
    "\n",
    "from tqdm import tqdm\n",
    "from glob import glob"
   ]
  },
  {
   "cell_type": "code",
   "execution_count": null,
   "id": "fa84370d",
   "metadata": {},
   "outputs": [],
   "source": [
    "crsp = pd.read_csv('data/crsp.csv')\n",
    "\n",
    "crsp = crsp[crsp['SHRCD'].isin([10,11])].copy()\n",
    "crsp = crsp[crsp['EXCHCD'].isin([1,2,3])].copy()\n",
    "\n",
    "crsp.reset_index(drop=True, inplace=True)\n",
    "crsp['CAP'] = crsp['PRC'].abs() * crsp['SHROUT']\n",
    "crsp['RET'] = crsp['RET'].replace('C', np.nan).copy()\n",
    "crsp['RET'] = crsp['RET'].astype(float).copy()\n",
    "crsp.drop(columns=['SHRCD'], inplace=True)"
   ]
  },
  {
   "cell_type": "code",
   "execution_count": null,
   "id": "044dbcb4",
   "metadata": {},
   "outputs": [],
   "source": [
    "close_lst =[]\n",
    "vol_lst = []\n",
    "cap_lst = []\n",
    "nyse_cap_lst = []\n",
    "\n",
    "for no in tqdm(crsp['PERMNO'].unique()):\n",
    "    temp = crsp[crsp['PERMNO'] == no].copy()\n",
    "    temp = temp.set_index('date')\n",
    "    temp.index.name = None\n",
    "    temp.index=pd.to_datetime(temp.index)\n",
    "    temp = temp.sort_index()\n",
    "\n",
    "    nyse_temp = temp[temp['EXCHCD'] == 1].copy()\n",
    "\n",
    "    if len(nyse_temp) == 0:\n",
    "        pass\n",
    "    else:\n",
    "        nyse_cap = nyse_temp['CAP'].copy()\n",
    "        nyse_cap.name = no\n",
    "        nyse_cap.dropna(inplace=True)\n",
    "        nyse_cap_lst.append(nyse_cap)\n",
    "    \n",
    "    cap = temp['CAP'].copy()\n",
    "    cap.name = no\n",
    "    cap.dropna(inplace=True)\n",
    "    cap_lst.append(cap)\n",
    "\n",
    "    vol = temp['VOL'].copy()\n",
    "    vol.name = no\n",
    "    vol.dropna(inplace=True)\n",
    "    vol_lst.append(vol)\n",
    "\n",
    "    ret = temp['RET'].copy()\n",
    "    ret.iloc[0] = 0\n",
    "    close = (ret+1).cumprod()\n",
    "    close.name = no\n",
    "    close.dropna(inplace=True)\n",
    "    close_lst.append(close)"
   ]
  },
  {
   "cell_type": "code",
   "execution_count": null,
   "id": "5d74069d",
   "metadata": {},
   "outputs": [],
   "source": [
    "pd.concat(nyse_cap_lst,axis=1).to_pickle('data/nyse_cap.pkl')\n",
    "pd.concat(cap_lst, axis=1).to_pickle('data/cap.pkl')\n",
    "pd.concat(vol_lst, axis=1).to_pickle('data/vol.pkl')\n",
    "pd.concat(close_lst, axis=1).to_pickle('data/close.pkl')"
   ]
  }
 ],
 "metadata": {
  "kernelspec": {
   "display_name": "base",
   "language": "python",
   "name": "python3"
  },
  "language_info": {
   "codemirror_mode": {
    "name": "ipython",
    "version": 3
   },
   "file_extension": ".py",
   "mimetype": "text/x-python",
   "name": "python",
   "nbconvert_exporter": "python",
   "pygments_lexer": "ipython3",
   "version": "3.13.5"
  }
 },
 "nbformat": 4,
 "nbformat_minor": 5
}
